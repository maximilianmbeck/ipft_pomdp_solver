{
 "metadata": {
  "language_info": {
   "codemirror_mode": {
    "name": "ipython",
    "version": 3
   },
   "file_extension": ".py",
   "mimetype": "text/x-python",
   "name": "python",
   "nbconvert_exporter": "python",
   "pygments_lexer": "ipython3",
   "version": "2.7.17-final"
  },
  "orig_nbformat": 2,
  "kernelspec": {
   "name": "python2",
   "display_name": "Python 2"
  }
 },
 "nbformat": 4,
 "nbformat_minor": 2,
 "cells": [
  {
   "cell_type": "code",
   "execution_count": 1,
   "metadata": {},
   "outputs": [],
   "source": [
    "import numpy as np\n",
    "import ipft "
   ]
  },
  {
   "cell_type": "code",
   "execution_count": 2,
   "metadata": {},
   "outputs": [],
   "source": [
    "initialBelief = np.array([\n",
    "            [9.3953], \n",
    "            [9.8427], \n",
    "            [10.1268],\n",
    "            [9.6946], \n",
    "            [9.2815], \n",
    "            [10.4726],\n",
    "            [10.7598],\n",
    "            [3.0242], \n",
    "            [10.6167],\n",
    "            [10.2247],\n",
    "            [9.0881], \n",
    "            [11.5099],\n",
    "            [9.6757], \n",
    "            [9.6167], \n",
    "            [8.9347], \n",
    "            [10.1384],\n",
    "            [9.6376], \n",
    "            [9.6736], \n",
    "            [10.7702],\n",
    "            [9.7005]])\n",
    "\n",
    "solver = ipft.PyIpftCld(initialBelief)"
   ]
  },
  {
   "cell_type": "code",
   "execution_count": 3,
   "metadata": {},
   "outputs": [
    {
     "output_type": "stream",
     "name": "stdout",
     "text": [
      "<ipft.py_ipft_api.PyIpftCld object at 0x7f0324037670>\n"
     ]
    }
   ],
   "source": [
    "print(solver)"
   ]
  },
  {
   "cell_type": "code",
   "execution_count": 4,
   "metadata": {},
   "outputs": [
    {
     "output_type": "execute_result",
     "data": {
      "text/plain": [
       "(array([-3.]), -22.28993308818901, array([-63.03805753,  40.74812444]))"
      ]
     },
     "metadata": {},
     "execution_count": 4
    }
   ],
   "source": [
    "solver.search()"
   ]
  },
  {
   "cell_type": "code",
   "execution_count": null,
   "metadata": {},
   "outputs": [],
   "source": [
    "solver.reset()\n",
    "solver.search()"
   ]
  },
  {
   "cell_type": "code",
   "execution_count": 5,
   "metadata": {},
   "outputs": [],
   "source": [
    "root = solver.getSearchTree()"
   ]
  },
  {
   "cell_type": "code",
   "execution_count": 14,
   "metadata": {},
   "outputs": [
    {
     "output_type": "stream",
     "name": "stdout",
     "text": [
      "<ipft.py_ipft_api.PyQNode object at 0x7f0307fd3130>\n<ipft.py_ipft_api.PyQNode object at 0x7f0324037eb0>\n<ipft.py_ipft_api.PyQNode object at 0x7f0307f599f0>\n<ipft.py_ipft_api.PyQNode object at 0x7f0307f65c70>\n<ipft.py_ipft_api.PyQNode object at 0x7f0307f6abf0>\n"
     ]
    }
   ],
   "source": [
    "for n in root.children_[0].children_[5].children_:\n",
    "    print(n)"
   ]
  },
  {
   "cell_type": "code",
   "execution_count": 31,
   "metadata": {},
   "outputs": [
    {
     "output_type": "stream",
     "name": "stdout",
     "text": [
      "[4.74385583]\n7\n[-88.28808236 182.16570637]\n[7.39182106]\n3\n[-34.41963593  33.26142894]\n[6.76874294]\n5\n[-79.47816819  38.12830943]\n[3.17604309]\n7\n[-86.58387279  31.65740859]\n[8.28911026]\n6\n[-63.71173072  14.70175542]\n[8.72549435]\n5\n[-87.42812364  23.56857549]\n"
     ]
    }
   ],
   "source": [
    "for n in root.children_[0].children_[5].children_[3].children_:\n",
    "    print(n.observation_)\n",
    "    print(n.count_)\n",
    "    print(n.values_)"
   ]
  },
  {
   "cell_type": "code",
   "execution_count": 52,
   "metadata": {},
   "outputs": [
    {
     "output_type": "stream",
     "name": "stdout",
     "text": [
      "[-3.]\n1\n[-85.1605      22.90655413]\n[-1.]\n1\n[-81.902475    32.53897689]\n[0.]\n2\n[-90.42556325 569.69521242]\n[1.]\n1\n[-92.2         9.9331022]\n[3.]\n1\n[-96.          23.45204318]\n"
     ]
    }
   ],
   "source": [
    "for n in root.children_[0].children_[5].children_[3].children_[0].children_:\n",
    "    print(n.action_)\n",
    "    print(n.count_)\n",
    "    print(n.values_)"
   ]
  },
  {
   "cell_type": "code",
   "execution_count": 53,
   "metadata": {},
   "outputs": [
    {
     "output_type": "stream",
     "name": "stdout",
     "text": [
      "[25.86880307]\n[[1.32188868]\n [1.32188868]\n [1.32188868]\n [1.32188868]\n [1.32188868]\n [1.32188868]\n [1.32188868]\n [1.32188868]\n [1.32188868]\n [1.32188868]\n [1.32188868]\n [1.32188868]\n [1.32188868]\n [1.32188868]\n [1.32188868]\n [1.32188868]\n [1.32188868]\n [1.32188868]\n [1.32188868]\n [1.32188868]]\n[5.03147673]\n[[7.68284388]\n [7.4948237 ]\n [7.40262207]\n [7.31701328]\n [7.07928532]\n [7.10804733]\n [6.94756217]\n [7.54449361]\n [7.08905648]\n [7.75791252]\n [7.94821943]\n [7.61176073]\n [7.10804733]\n [7.7012344 ]\n [8.18643271]\n [7.68300645]\n [7.53427989]\n [8.35228696]\n [7.4640428 ]\n [7.09287469]]\n"
     ]
    }
   ],
   "source": [
    "for n in root.children_[0].children_[5].children_[3].children_[0].children_[2].children_: # vnodes\n",
    "    print(n.observation_)\n",
    "    print(n.belief_.particles_)"
   ]
  },
  {
   "cell_type": "code",
   "execution_count": 49,
   "metadata": {},
   "outputs": [
    {
     "output_type": "execute_result",
     "data": {
      "text/plain": [
       "0L"
      ]
     },
     "metadata": {},
     "execution_count": 49
    }
   ],
   "source": [
    "root.children_[0].children_[5].children_[3].children_[0].children_[2].children_[0]."
   ]
  },
  {
   "cell_type": "code",
   "execution_count": 25,
   "metadata": {},
   "outputs": [
    {
     "output_type": "execute_result",
     "data": {
      "text/plain": [
       "[<ipft.py_ipft_api.PyQNode at 0x7f0307f1d130>,\n",
       " <ipft.py_ipft_api.PyQNode at 0x7f0307ea93b0>,\n",
       " <ipft.py_ipft_api.PyQNode at 0x7f0307ea9cf0>,\n",
       " <ipft.py_ipft_api.PyQNode at 0x7f0307e30730>,\n",
       " <ipft.py_ipft_api.PyQNode at 0x7f0307e4c3b0>]"
      ]
     },
     "metadata": {},
     "execution_count": 25
    }
   ],
   "source": [
    "root.children_"
   ]
  },
  {
   "cell_type": "code",
   "execution_count": 8,
   "metadata": {},
   "outputs": [],
   "source": [
    "L0qN0 = root.children_[2]\n",
    "L0qN0Vs = root.children_[2].children_\n"
   ]
  },
  {
   "cell_type": "code",
   "execution_count": 17,
   "metadata": {},
   "outputs": [
    {
     "output_type": "execute_result",
     "data": {
      "text/plain": [
       "8"
      ]
     },
     "metadata": {},
     "execution_count": 17
    }
   ],
   "source": [
    "len(L0qN0Vs)"
   ]
  },
  {
   "cell_type": "code",
   "execution_count": 9,
   "metadata": {},
   "outputs": [
    {
     "output_type": "execute_result",
     "data": {
      "text/plain": [
       "array([[10.7598],\n",
       "       [10.1384],\n",
       "       [ 9.6736],\n",
       "       [10.2247],\n",
       "       [ 9.6946],\n",
       "       [10.7702],\n",
       "       [ 9.8427],\n",
       "       [ 9.6376],\n",
       "       [11.5099],\n",
       "       [ 9.6167],\n",
       "       [10.6167],\n",
       "       [ 9.3953],\n",
       "       [ 9.7005],\n",
       "       [ 9.2815],\n",
       "       [10.4726],\n",
       "       [ 3.0242],\n",
       "       [ 9.0881],\n",
       "       [ 8.9347],\n",
       "       [ 9.6757],\n",
       "       [10.1268]])"
      ]
     },
     "metadata": {},
     "execution_count": 9
    }
   ],
   "source": [
    "root.belief_.particles_"
   ]
  },
  {
   "cell_type": "code",
   "execution_count": 10,
   "metadata": {},
   "outputs": [
    {
     "output_type": "stream",
     "name": "stdout",
     "text": [
      "[[ 8.9392801 ]\n [10.51684665]\n [10.51684665]\n [ 9.69108638]\n [10.95715274]\n [11.49454437]\n [ 9.55271683]\n [ 9.67094521]\n [10.56126957]\n [10.19935356]\n [ 9.69108638]\n [ 9.63089615]\n [10.22534256]\n [ 9.52403414]\n [ 9.75276123]\n [10.19935356]\n [ 9.63089615]\n [10.46412032]\n [10.78515561]\n [ 9.81606799]]\n[[ 9.79680286]\n [ 9.67483608]\n [10.59444228]\n [10.21751246]\n [10.3607295 ]\n [ 9.58807426]\n [ 9.79680286]\n [10.08772231]\n [ 9.37155729]\n [ 9.82901034]\n [11.03648303]\n [ 9.71998583]\n [10.71409847]\n [10.48017624]\n [ 9.46878609]\n [ 9.82901034]\n [ 9.65238049]\n [ 9.14732957]\n [ 9.62671025]\n [ 8.80133601]]\n[[ 9.4899101 ]\n [ 9.5438078 ]\n [ 9.86646852]\n [10.29185909]\n [ 9.13867702]\n [ 9.7613012 ]\n [10.29185909]\n [ 9.60661865]\n [ 9.80065596]\n [10.22745736]\n [ 9.86646852]\n [10.19105659]\n [10.53766309]\n [ 9.56271304]\n [ 9.7613012 ]\n [ 9.64896382]\n [ 9.80065596]\n [ 8.9016447 ]\n [11.3821637 ]\n [10.70680979]]\n[[3.01257882]\n [3.01257882]\n [3.01257882]\n [3.01257882]\n [3.01257882]\n [3.01257882]\n [3.01257882]\n [3.01257882]\n [3.01257882]\n [3.01257882]\n [3.01257882]\n [3.01257882]\n [3.01257882]\n [3.01257882]\n [3.01257882]\n [3.01257882]\n [3.01257882]\n [3.01257882]\n [3.01257882]\n [3.01257882]]\n[[10.80172169]\n [ 9.58800206]\n [10.5663436 ]\n [ 9.41656129]\n [ 9.67683131]\n [ 9.63961284]\n [ 9.67683131]\n [ 9.76819678]\n [ 9.41637231]\n [ 9.76819678]\n [ 9.63961284]\n [10.55066738]\n [ 9.04349334]\n [ 9.23878463]\n [ 8.92729458]\n [ 9.64486195]\n [ 9.64486195]\n [ 9.41656129]\n [ 9.58800206]\n [ 9.77858279]]\n[[ 9.12217874]\n [11.59312156]\n [11.59312156]\n [11.59312156]\n [10.85024372]\n [11.59312156]\n [11.59312156]\n [11.59312156]\n [ 3.06209351]\n [ 3.06209351]\n [ 3.06209351]\n [11.59312156]\n [10.60284457]\n [11.59312156]\n [11.59312156]\n [11.59312156]\n [11.59312156]\n [10.85024372]\n [11.59312156]\n [11.59312156]]\n[[11.65181002]\n [11.65181002]\n [11.65181002]\n [11.65181002]\n [11.65181002]\n [ 9.18454864]\n [11.65181002]\n [ 2.95902603]\n [10.70572714]\n [ 2.95902603]\n [11.65181002]\n [10.76454252]\n [10.76454252]\n [10.70572714]\n [ 2.95902603]\n [ 8.92607617]\n [11.65181002]\n [11.65181002]\n [11.65181002]\n [11.65181002]]\n[[ 9.75387492]\n [ 9.40839372]\n [10.01470791]\n [ 9.60178725]\n [ 9.29283604]\n [ 9.68011062]\n [10.48205898]\n [11.57928303]\n [10.48205898]\n [10.70660353]\n [10.14509451]\n [ 9.97488663]\n [10.8137318 ]\n [ 9.97488663]\n [10.20366979]\n [10.45546498]\n [ 8.84613443]\n [10.45546498]\n [10.14509451]\n [ 9.80875585]]\n"
     ]
    }
   ],
   "source": [
    "for v in L0qN0Vs:\n",
    "    print(v.belief_.particles_)"
   ]
  },
  {
   "cell_type": "code",
   "execution_count": 18,
   "metadata": {},
   "outputs": [
    {
     "output_type": "execute_result",
     "data": {
      "text/plain": [
       "array([[3.01257882],\n",
       "       [3.01257882],\n",
       "       [3.01257882],\n",
       "       [3.01257882],\n",
       "       [3.01257882],\n",
       "       [3.01257882],\n",
       "       [3.01257882],\n",
       "       [3.01257882],\n",
       "       [3.01257882],\n",
       "       [3.01257882],\n",
       "       [3.01257882],\n",
       "       [3.01257882],\n",
       "       [3.01257882],\n",
       "       [3.01257882],\n",
       "       [3.01257882],\n",
       "       [3.01257882],\n",
       "       [3.01257882],\n",
       "       [3.01257882],\n",
       "       [3.01257882],\n",
       "       [3.01257882]])"
      ]
     },
     "metadata": {},
     "execution_count": 18
    }
   ],
   "source": [
    "degVNode = L0qN0Vs[3]\n",
    "degVNode.belief_.particles_"
   ]
  },
  {
   "cell_type": "code",
   "execution_count": 19,
   "metadata": {},
   "outputs": [
    {
     "output_type": "execute_result",
     "data": {
      "text/plain": [
       "array([[10.88970548],\n",
       "       [10.24057294],\n",
       "       [ 9.646017  ],\n",
       "       [10.12616953],\n",
       "       [ 9.81227485],\n",
       "       [10.70282513],\n",
       "       [ 9.9058039 ],\n",
       "       [ 9.54080778],\n",
       "       [11.39410435],\n",
       "       [ 9.68374543],\n",
       "       [10.71044586],\n",
       "       [ 9.44884388],\n",
       "       [ 9.80376234],\n",
       "       [ 9.26153376],\n",
       "       [10.47786044],\n",
       "       [ 3.01257882],\n",
       "       [ 9.14280734],\n",
       "       [ 9.09080335],\n",
       "       [ 9.67211648],\n",
       "       [ 9.95360296]])"
      ]
     },
     "metadata": {},
     "execution_count": 19
    }
   ],
   "source": [
    "degVNode.belief_.post_particles_"
   ]
  },
  {
   "cell_type": "code",
   "execution_count": 20,
   "metadata": {},
   "outputs": [
    {
     "output_type": "execute_result",
     "data": {
      "text/plain": [
       "array([2.80417239e-09, 4.48897096e-36, 1.15133359e-22, 2.80082806e-54,\n",
       "       4.09768872e-40, 2.15672639e-12, 8.35460156e-60, 8.31831175e-17,\n",
       "       3.13006736e-05, 1.71697418e-25, 3.11167828e-12, 2.59118521e-13,\n",
       "       8.23316330e-39, 8.20560754e-09, 3.39410203e-19, 9.99966020e-01,\n",
       "       5.12804434e-07, 2.15564568e-06, 1.43741359e-24, 1.01184351e-75])"
      ]
     },
     "metadata": {},
     "execution_count": 20
    }
   ],
   "source": [
    "degVNode.belief_.post_weights_"
   ]
  },
  {
   "cell_type": "code",
   "execution_count": 21,
   "metadata": {},
   "outputs": [
    {
     "output_type": "stream",
     "name": "stdout",
     "text": [
      "[10.27434248]\n[9.65062024]\n[9.81728269]\n[-0.6478485]\n[8.72827618]\n[14.92908828]\n[14.2445306]\n[10.6637181]\n"
     ]
    }
   ],
   "source": [
    "for v in L0qN0Vs:\n",
    "    print(v.observation_)"
   ]
  },
  {
   "cell_type": "code",
   "execution_count": 24,
   "metadata": {},
   "outputs": [
    {
     "output_type": "stream",
     "name": "stdout",
     "text": [
      "898\n941\n965\n926\n873\n924\n902\n789\n"
     ]
    }
   ],
   "source": [
    "for v in L0qN0Vs:\n",
    "    print(v.count_)"
   ]
  },
  {
   "cell_type": "code",
   "execution_count": 23,
   "metadata": {},
   "outputs": [
    {
     "output_type": "execute_result",
     "data": {
      "text/plain": [
       "array([-0.6478485])"
      ]
     },
     "metadata": {},
     "execution_count": 23
    }
   ],
   "source": [
    "degVNode.observation_"
   ]
  }
 ]
}