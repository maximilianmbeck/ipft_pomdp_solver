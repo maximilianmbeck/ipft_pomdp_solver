{
 "metadata": {
  "language_info": {
   "codemirror_mode": {
    "name": "ipython",
    "version": 3
   },
   "file_extension": ".py",
   "mimetype": "text/x-python",
   "name": "python",
   "nbconvert_exporter": "python",
   "pygments_lexer": "ipython3",
   "version": "2.7.17-final"
  },
  "orig_nbformat": 2,
  "kernelspec": {
   "name": "python2",
   "display_name": "Python 2"
  }
 },
 "nbformat": 4,
 "nbformat_minor": 2,
 "cells": [
  {
   "cell_type": "code",
   "execution_count": 1,
   "metadata": {},
   "outputs": [],
   "source": [
    "import ipft"
   ]
  },
  {
   "cell_type": "code",
   "execution_count": 2,
   "metadata": {},
   "outputs": [],
   "source": [
    "planner = ipft.PyPlannerCld()\n",
    "planner.resetPlanner()"
   ]
  },
  {
   "cell_type": "code",
   "execution_count": 3,
   "metadata": {},
   "outputs": [
    {
     "output_type": "stream",
     "name": "stdout",
     "text": [
      "<ipft.py_ipft_api.PyPlannerCld object at 0x7f3adb5a3ef0>\n"
     ]
    }
   ],
   "source": [
    "print(planner)"
   ]
  },
  {
   "cell_type": "code",
   "execution_count": 4,
   "metadata": {},
   "outputs": [],
   "source": [
    "planner.runPlanningLoop()"
   ]
  },
  {
   "cell_type": "code",
   "execution_count": 23,
   "metadata": {},
   "outputs": [],
   "source": [
    "planner.resetPlanner()\n",
    "planner.runPlanningLoop()"
   ]
  },
  {
   "cell_type": "code",
   "execution_count": 8,
   "metadata": {},
   "outputs": [
    {
     "output_type": "stream",
     "name": "stdout",
     "text": [
      "15\n"
     ]
    }
   ],
   "source": [
    "print(planner.numSteps())"
   ]
  },
  {
   "cell_type": "code",
   "execution_count": 25,
   "metadata": {},
   "outputs": [],
   "source": [
    "root = planner.getSearchTreeOfStep(9)"
   ]
  },
  {
   "cell_type": "code",
   "execution_count": 26,
   "metadata": {},
   "outputs": [
    {
     "output_type": "execute_result",
     "data": {
      "text/plain": [
       "8"
      ]
     },
     "metadata": {},
     "execution_count": 26
    }
   ],
   "source": [
    "len(root.children_[2].children_)"
   ]
  },
  {
   "cell_type": "code",
   "execution_count": 27,
   "metadata": {},
   "outputs": [
    {
     "output_type": "stream",
     "name": "stdout",
     "text": [
      "[-4.80455016e+01  4.28944140e-02]\n[-4.33393926  0.02206544]\n[7.03274227e+01 1.27860065e-02]\n[-56.5267365    0.10033634]\n[-74.07331907   0.09931132]\n"
     ]
    }
   ],
   "source": [
    "rcs = root.children_\n",
    "for q in rcs:\n",
    "    print(q.values_)"
   ]
  },
  {
   "cell_type": "code",
   "execution_count": 28,
   "metadata": {},
   "outputs": [],
   "source": [
    "L0qN0 = root.children_[2]\n",
    "L0qN0Vs = root.children_[2].children_"
   ]
  },
  {
   "cell_type": "code",
   "execution_count": 28,
   "metadata": {},
   "outputs": [
    {
     "output_type": "execute_result",
     "data": {
      "text/plain": [
       "array([[  0.44334161],\n",
       "       [  0.68003152],\n",
       "       [  4.35398473],\n",
       "       [ -1.33523496],\n",
       "       [  0.5647278 ],\n",
       "       [ -1.37298477],\n",
       "       [  3.10202313],\n",
       "       [  3.54864447],\n",
       "       [ -3.22872179],\n",
       "       [ -0.42771018],\n",
       "       [  2.10418858],\n",
       "       [ -4.9838616 ],\n",
       "       [-10.43556779],\n",
       "       [ -7.48053527],\n",
       "       [  0.05398836],\n",
       "       [ -1.3240397 ],\n",
       "       [  0.86554612],\n",
       "       [  3.95418162],\n",
       "       [  0.10152615],\n",
       "       [ -1.02698059]])"
      ]
     },
     "metadata": {},
     "execution_count": 28
    }
   ],
   "source": [
    "root.belief_.particles_"
   ]
  },
  {
   "cell_type": "code",
   "execution_count": 29,
   "metadata": {},
   "outputs": [
    {
     "output_type": "execute_result",
     "data": {
      "text/plain": [
       "7819L"
      ]
     },
     "metadata": {},
     "execution_count": 29
    }
   ],
   "source": [
    "L0qN0.count_"
   ]
  },
  {
   "cell_type": "code",
   "execution_count": 30,
   "metadata": {},
   "outputs": [
    {
     "output_type": "stream",
     "name": "stdout",
     "text": [
      "994\n989\n997\n1006\n1021\n1013\n946\n853\n"
     ]
    }
   ],
   "source": [
    "for v in L0qN0Vs:\n",
    "    print(v.count_)"
   ]
  },
  {
   "cell_type": "code",
   "execution_count": 31,
   "metadata": {},
   "outputs": [
    {
     "output_type": "stream",
     "name": "stdout",
     "text": [
      "[[ 1.54322298]\n [ 1.0220074 ]\n [ 1.70874631]\n [ 0.53872753]\n [ 1.24224565]\n [-0.24663781]\n [ 1.16962074]\n [-0.68048629]\n [ 0.56641054]\n [ 0.59537612]\n [ 0.81471441]\n [ 1.49989842]\n [ 1.24511953]\n [ 1.4461744 ]\n [ 0.9403158 ]\n [ 1.40301184]\n [ 1.24704504]\n [ 0.31709847]\n [ 1.32511816]\n [ 2.59814644]]\n[[ 1.51611472]\n [ 1.57126742]\n [ 0.96443526]\n [ 1.46744037]\n [-0.68739701]\n [ 1.36839056]\n [ 0.22064209]\n [ 0.90790992]\n [ 1.15239487]\n [ 0.5650673 ]\n [ 2.56348403]\n [ 1.56945735]\n [ 1.41126308]\n [ 1.18141075]\n [ 0.79966209]\n [-0.39556976]\n [ 1.4855265 ]\n [ 0.88477122]\n [ 0.7027956 ]\n [ 1.13048536]]\n[[ 2.7025966 ]\n [ 1.43252982]\n [ 1.25363465]\n [ 0.67668204]\n [ 0.66508606]\n [-0.84933783]\n [ 1.267217  ]\n [ 0.79862265]\n [ 0.79316211]\n [ 1.36370993]\n [ 0.97944945]\n [-0.4605927 ]\n [ 0.8165943 ]\n [ 1.44772771]\n [ 1.44343248]\n [ 1.04993347]\n [ 1.15516943]\n [ 1.58940083]\n [ 1.12947395]\n [ 0.36464739]]\n[[ 0.68271188]\n [-0.28286495]\n [ 1.33145359]\n [ 1.42791375]\n [-0.28286495]\n [ 0.87440549]\n [ 0.847554  ]\n [ 0.70932361]\n [ 1.05558377]\n [ 0.36977481]\n [ 1.57535337]\n [ 0.62505546]\n [ 1.44118936]\n [ 0.36977481]\n [-0.60627698]\n [ 1.10136055]\n [ 1.55432035]\n [ 1.13539172]\n [ 0.98645393]\n [ 1.19540983]]\n[[-0.62151427]\n [ 0.66163857]\n [ 1.50403732]\n [ 1.55958867]\n [ 1.63392554]\n [ 0.7381775 ]\n [ 1.27024786]\n [ 0.70049977]\n [ 1.35169235]\n [ 1.52142538]\n [ 1.10925229]\n [ 0.15613049]\n [ 2.76004932]\n [ 1.2093084 ]\n [ 1.07466123]\n [ 0.53943689]\n [ 0.74683937]\n [ 1.07501748]\n [ 1.05023357]\n [-0.53871364]]\n[[ 1.20656242]\n [ 1.75859257]\n [ 2.78341496]\n [ 1.20166493]\n [ 1.38821593]\n [-0.57734186]\n [ 1.64698377]\n [ 0.7569614 ]\n [ 1.26881934]\n [ 1.52157851]\n [ 0.46190148]\n [ 0.89419803]\n [ 0.50538078]\n [ 0.36411323]\n [ 1.17902897]\n [ 1.59438733]\n [ 0.84996741]\n [-0.22108072]\n [ 0.93508957]\n [ 1.52002722]]\n[[ 1.63698454]\n [ 0.65392322]\n [-0.23792529]\n [ 0.76393934]\n [ 1.29579064]\n [ 1.53198169]\n [ 0.54394136]\n [ 0.83778661]\n [ 1.39041403]\n [ 1.06505263]\n [ 0.92374043]\n [ 0.27195439]\n [ 1.16090592]\n [ 0.89179972]\n [ 1.70745331]\n [ 1.03445355]\n [-0.55851035]\n [ 1.55339429]\n [ 1.43863054]\n [ 2.56292206]]\n[[ 1.53490636]\n [ 0.68641534]\n [ 1.1276487 ]\n [-0.80867847]\n [ 0.67302575]\n [ 1.64946605]\n [ 1.31546932]\n [ 0.8471375 ]\n [ 2.50411713]\n [ 1.4296482 ]\n [ 0.4613691 ]\n [-0.38871586]\n [ 1.61838037]\n [ 1.2471595 ]\n [ 1.53739275]\n [ 1.1322867 ]\n [ 0.70877936]\n [ 0.8999506 ]\n [ 1.36690542]\n [ 0.53583746]]\n"
     ]
    }
   ],
   "source": [
    "for v in L0qN0Vs:\n",
    "    print(v.belief_.particles_)"
   ]
  }
 ]
}